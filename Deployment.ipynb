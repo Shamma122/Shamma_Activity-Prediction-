%%writefile app.py

import streamlit as st
import numpy as np
import pandas as pd
import joblib

with open('final_model.joblib', 'rb') as file:
    model = joblib.load(file)

def prediction(inp_list):
    pred = model.predict([inp_list])[0]
    if pred == 0:
        return 'Sitting on bed'
    elif pred == 1:
        return 'Sitting on chair'
    elif pred == 2:
        return 'Lying on bed'
    else:s
        return 'Ambulating'

def main():
    st.title('ACTIVITY PREDICTION FROM SENSOR DATA')
    st.subheader('This application will predict the ongoing activity based on sensor data provided. Fill the respective fields for prediction.')
    st.image('sensors.png')  # Ensure image.webp is in the same directory

    rfid = st.selectbox('Enter the RFID configuration settings', ['Config 1 (4 Sensors)', 'Config 2 (3 Sensors)'])
    rfid_e = 3 if rfid == 'Config 2 (3 Sensors)' else 4

    ant_ID = st.selectbox('Select the Antenna ID', [1, 2, 3, 4])
    rssi = st.number_input('Enter the received signal strength indicator (RSSI)', value=-60.0, step=1.0)
    accv = st.number_input('Enter the vertical acceleration data from sensor', value=0.5, step=0.1)
    accf = st.number_input('Enter the frontal acceleration data from sensor', value=0.5, step=0.1)
    accl = st.number_input('Enter the lateral acceleration data from sensor', value=0.5, step=0.1)

    inp_data = [float(accf), float(accv), float(accl), int(ant_ID), float(rssi), int(rfid_e)]

    if st.button('Predict'):
        response = prediction(inp_data)
        st.success(response)

if __name__ == '__main__':
    main()

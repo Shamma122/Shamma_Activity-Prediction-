{
 "cells": [
  {
   "cell_type": "code",
   "execution_count": 11,
   "id": "03484d21-7655-472a-8b86-b89c36fc0f57",
   "metadata": {},
   "outputs": [
    {
     "name": "stdout",
     "output_type": "stream",
     "text": [
      "Overwriting app.py\n"
     ]
    }
   ],
   "source": [
    "%%writefile app.py\n",
    "\n",
    "import streamlit as st\n",
    "import numpy as np\n",
    "import pandas as pd\n",
    "import joblib\n",
    "\n",
    "with open('final_model.joblib','rb') as file:\n",
    "    model = joblib.load(file)\n",
    "\n",
    "def prediction(inp_list):\n",
    "\n",
    "    pred = model.predict([inp_list])[0]\n",
    "    if pred==0:\n",
    "        return 'Sitting on bed'\n",
    "    elif pred==1:\n",
    "        return 'Sitting on chair'\n",
    "    elif pred==2:\n",
    "        return 'Lying on bed'\n",
    "    else:\n",
    "        return 'Ambulating'\n",
    "        \n",
    "        \n",
    "\n",
    "def main():\n",
    "    st.title('ACTIVITY PREDICTION FROM SENSOR DATA')\n",
    "    st.subheader('''This application will predict the on going avtivity of the basis of sensor data provided. Fill the respective \n",
    "    fields it will be predicted.''')\n",
    "    st.image('sensors.png')\n",
    "\n",
    "    rfid = st.dropbox('Enter the RFID configuration settings',['Config 1 (4 Sensors)','Config 2 (3 Sensors)'])\n",
    "    rfid_e = (lambda x: 3 if x=='Config 2 (3 Sensors)' else 4)(rfid)\n",
    "\n",
    "    ant_ID = st.dropbox('Select the Antena ID',[1,2,3,4])\n",
    "    rssi = st.number_input('Enter the received signal strength indicator (RSSI)')\n",
    "    accv = st.number_input('Enter the vertical acceleration data from sensor')\n",
    "    accf = st.number_input('Enter the frontal acceleration data from sensor')\n",
    "    accl = st.number_input('Enter the lateral acceleration data from sensor')\n",
    "\n",
    "    inp_data = [accf,accv,accl,ant_ID,rssi,rfid_e]\n",
    "\n",
    "    if st.button('Predict'):\n",
    "        response = prediction(inp_data)\n",
    "        st.success(response)\n",
    "    \n",
    "\n",
    "if __name__=='__main__':\n",
    "    main()"
   ]
  },
  {
   "cell_type": "code",
   "execution_count": 12,
   "id": "678c96ac-9474-417d-a061-d81fe41a7f95",
   "metadata": {},
   "outputs": [
    {
     "data": {
      "text/plain": [
       "'C:\\\\Users\\\\shamm'"
      ]
     },
     "execution_count": 12,
     "metadata": {},
     "output_type": "execute_result"
    }
   ],
   "source": [
    "pwd"
   ]
  },
  {
   "cell_type": "code",
   "execution_count": null,
   "id": "f3d9d00d-82d7-4803-b830-7de0ba5195bf",
   "metadata": {},
   "outputs": [],
   "source": []
  },
  {
   "cell_type": "code",
   "execution_count": null,
   "id": "1ee96d74-a318-446b-a761-48033e68127f",
   "metadata": {},
   "outputs": [],
   "source": []
  },
  {
   "cell_type": "code",
   "execution_count": null,
   "id": "a029ccbb-13f4-4d20-b2ad-aa3bde130a55",
   "metadata": {},
   "outputs": [],
   "source": []
  },
  {
   "cell_type": "code",
   "execution_count": null,
   "id": "1f4696de-9d61-4e24-abdc-457776250035",
   "metadata": {},
   "outputs": [],
   "source": []
  }
 ],
 "metadata": {
  "kernelspec": {
   "display_name": "Python 3 (ipykernel)",
   "language": "python",
   "name": "python3"
  },
  "language_info": {
   "codemirror_mode": {
    "name": "ipython",
    "version": 3
   },
   "file_extension": ".py",
   "mimetype": "text/x-python",
   "name": "python",
   "nbconvert_exporter": "python",
   "pygments_lexer": "ipython3",
   "version": "3.12.7"
  }
 },
 "nbformat": 4,
 "nbformat_minor": 5
}
